{
 "cells": [
  {
   "cell_type": "code",
   "execution_count": null,
   "metadata": {
    "_cell_guid": "b1076dfc-b9ad-4769-8c92-a6c4dae69d19",
    "_kg_hide-output": true,
    "_uuid": "8f2839f25d086af736a60e9eeb907d3b93b6e0e5",
    "scrolled": true
   },
   "outputs": [],
   "source": [
    "# This Python 3 environment comes with many helpful analytics libraries installed\n",
    "# It is defined by the kaggle/python Docker image: https://github.com/kaggle/docker-python\n",
    "# For example, here's several helpful packages to load\n",
    "\n",
    "import numpy as np # linear algebra\n",
    "import pandas as pd # data processing, CSV file I/O (e.g. pd.read_csv)\n",
    "\n",
    "# Input data files are available in the read-only \"../input/\" directory\n",
    "# For example, running this (by clicking run or pressing Shift+Enter) will list all files under the input directory\n",
    "\n",
    "import os\n",
    "for dirname, _, filenames in os.walk('/kaggle/input'):\n",
    "    for filename in filenames:\n",
    "        print(os.path.join(dirname, filename))\n",
    "\n",
    "# You can write up to 20GB to the current directory (/kaggle/working/) that gets preserved as output when you create a version using \"Save & Run All\" \n",
    "# You can also write temporary files to /kaggle/temp/, but they won't be saved outside of the current session"
   ]
  },
  {
   "cell_type": "markdown",
   "metadata": {},
   "source": [
    "# Import Libraries"
   ]
  },
  {
   "cell_type": "code",
   "execution_count": null,
   "metadata": {},
   "outputs": [],
   "source": [
    "import os\n",
    "#os.environ[\"TF_CPP_MIN_LOG_LEVEL\"] = \"3\"\n",
    "\n",
    "import numpy as np\n",
    "import pandas as pd\n",
    "\n",
    "import matplotlib.pyplot as plt\n",
    "from tqdm import tqdm\n",
    "from PIL import Image\n",
    "from IPython import display\n",
    "\n",
    "import tensorflow as tf\n",
    "from tensorflow.keras import layers, models, optimizers, losses\n",
    "from tensorflow.keras.utils import plot_model\n",
    "\n",
    "import warnings\n",
    "warnings.filterwarnings(\"ignore\")"
   ]
  },
  {
   "cell_type": "markdown",
   "metadata": {},
   "source": [
    "# Load Data"
   ]
  },
  {
   "cell_type": "code",
   "execution_count": null,
   "metadata": {},
   "outputs": [],
   "source": [
    "root_dir = \"/kaggle/input/simpsons-faces/cropped\""
   ]
  },
  {
   "cell_type": "code",
   "execution_count": null,
   "metadata": {},
   "outputs": [],
   "source": [
    "image_paths = []\n",
    "for file in os.listdir(root_dir):\n",
    "    image_paths.append(os.path.join(root_dir, file))"
   ]
  },
  {
   "cell_type": "code",
   "execution_count": null,
   "metadata": {},
   "outputs": [],
   "source": [
    "def load_files(image_paths):\n",
    "    images = []\n",
    "    for file in tqdm(image_paths):\n",
    "        image = Image.open(file)\n",
    "        image = image.resize((64, 64))\n",
    "        image = (np.array(image).astype('float32') - 127.5) / 127.5\n",
    "        images.append(image)\n",
    "\n",
    "    return np.array(images)"
   ]
  },
  {
   "cell_type": "code",
   "execution_count": null,
   "metadata": {},
   "outputs": [],
   "source": [
    "train_images = load_files(image_paths)"
   ]
  },
  {
   "cell_type": "markdown",
   "metadata": {},
   "source": [
    "# Visualization"
   ]
  },
  {
   "cell_type": "code",
   "execution_count": null,
   "metadata": {},
   "outputs": [],
   "source": [
    "def visualize_df(df: pd.DataFrame):\n",
    "    fig, axes = plt.subplots(4, 4, figsize=(12, 12))\n",
    "\n",
    "    for i, ax in enumerate(axes.ravel()):\n",
    "        if i < len(df):\n",
    "            a = np.random.randint(1, len(df), 1)[0]\n",
    "            img_path = df.loc[a][['image_path']].values[0]\n",
    "            \n",
    "            image = Image.open(img_path).convert('RGB')\n",
    "            \n",
    "            ax.imshow(image)\n",
    "            ax.set_title(f\"File: {img_path.split('/')[-1]}\")\n",
    "            ax.axis('off')\n",
    "            \n",
    "        else:\n",
    "            ax.axis('off')\n",
    "            \n",
    "    plt.tight_layout()\n",
    "    plt.show()"
   ]
  },
  {
   "cell_type": "code",
   "execution_count": null,
   "metadata": {},
   "outputs": [],
   "source": [
    "visualize_df(pd.DataFrame({\"image_path\": image_paths}))"
   ]
  },
  {
   "cell_type": "markdown",
   "metadata": {},
   "source": [
    "# Model"
   ]
  },
  {
   "cell_type": "code",
   "execution_count": null,
   "metadata": {},
   "outputs": [],
   "source": [
    "g_noise_input = layers.Input(shape=(100,))\n",
    "\n",
    "g_hidden1 = layers.Dense(8 * 8 * 128)(g_noise_input)\n",
    "g_reshaped_input = layers.Reshape((8, 8, 128))(g_hidden1)\n",
    "\n",
    "g_upsample1 = layers.Conv2DTranspose(filters=128, kernel_size=(4, 4), strides=(2, 2), padding='same')(g_reshaped_input)\n",
    "g_relu1 = layers.ReLU()(g_upsample1)\n",
    "\n",
    "g_upsample2 = layers.Conv2DTranspose(filters=256, kernel_size=(4, 4), strides=(2, 2), padding='same')(g_relu1)\n",
    "g_relu2 = layers.ReLU()(g_upsample2)\n",
    "\n",
    "g_upsample3 = layers.Conv2DTranspose(filters=512, kernel_size=(4, 4), strides=(2, 2), padding='same')(g_relu2)\n",
    "g_relu3 = layers.ReLU()(g_upsample3)\n",
    "\n",
    "g_output = layers.Conv2D(filters=3, kernel_size=(5, 5), activation='tanh', padding='same')(g_relu3)\n",
    "\n",
    "generator_model = models.Model(inputs=g_noise_input, outputs=g_output)"
   ]
  },
  {
   "cell_type": "code",
   "execution_count": null,
   "metadata": {},
   "outputs": [],
   "source": [
    "plot_model(generator_model)"
   ]
  },
  {
   "cell_type": "code",
   "execution_count": null,
   "metadata": {},
   "outputs": [],
   "source": [
    "d_input_layer = layers.Input(shape=(64, 64, 3))\n",
    "\n",
    "d_conv1 = layers.Conv2D(filters=64, kernel_size=(4, 4), strides=(2, 2), padding='same')(d_input_layer)\n",
    "d_leaky_relu1 = layers.LeakyReLU(alpha=0.2)(d_conv1)\n",
    "\n",
    "d_conv2 = layers.Conv2D(filters=128, kernel_size=(4, 4), strides=(2, 2), padding='same')(d_leaky_relu1)\n",
    "d_leaky_relu2 = layers.LeakyReLU(alpha=0.2)(d_conv2)\n",
    "\n",
    "d_flatten = layers.Flatten()(d_leaky_relu2)\n",
    "\n",
    "d_dropout = layers.Dropout(0.3)(d_flatten)\n",
    "\n",
    "d_output_layer = layers.Dense(1, activation='sigmoid')(d_dropout)\n",
    "\n",
    "discriminator_model = models.Model(inputs=d_input_layer, outputs=d_output_layer)"
   ]
  },
  {
   "cell_type": "code",
   "execution_count": null,
   "metadata": {},
   "outputs": [],
   "source": [
    "plot_model(discriminator_model)"
   ]
  },
  {
   "cell_type": "markdown",
   "metadata": {},
   "source": [
    "# Train"
   ]
  },
  {
   "cell_type": "code",
   "execution_count": null,
   "metadata": {},
   "outputs": [],
   "source": [
    "EPOCHS = 30\n",
    "NUM_TESTS = 16\n",
    "NOISE_DIM = 100\n",
    "BUFFER_SIZE = len(train_images)\n",
    "BATCH_SIZE = 128\n",
    "LR_G = 0.0004\n",
    "LR_D = 0.0004\n",
    "BETA_G = 0.5\n",
    "BETA_D = 0.5\n",
    "\n",
    "generator_optimizer = optimizers.Adam(learning_rate=LR_G, beta_1=BETA_G)\n",
    "discriminator_optimizer = optimizers.Adam(learning_rate=LR_D, beta_1=BETA_D)\n",
    "cross_entropy = tf.keras.losses.BinaryCrossentropy(from_logits=True)"
   ]
  },
  {
   "cell_type": "code",
   "execution_count": null,
   "metadata": {},
   "outputs": [],
   "source": [
    "dataset = tf.data.Dataset.from_tensor_slices(train_images).shuffle(BUFFER_SIZE).batch(BATCH_SIZE)"
   ]
  },
  {
   "cell_type": "code",
   "execution_count": null,
   "metadata": {},
   "outputs": [],
   "source": [
    "def generator_loss(fake_output):\n",
    "\treturn cross_entropy(tf.ones_like(fake_output), fake_output)"
   ]
  },
  {
   "cell_type": "code",
   "execution_count": null,
   "metadata": {},
   "outputs": [],
   "source": [
    "def discriminator_loss(real_output, fake_output):\n",
    "    real_loss = cross_entropy(tf.ones_like(real_output), real_output)\n",
    "    fake_loss = cross_entropy(tf.zeros_like(fake_output), fake_output)\n",
    "    total_loss = real_loss + fake_loss\n",
    "    return total_loss"
   ]
  },
  {
   "cell_type": "code",
   "execution_count": null,
   "metadata": {},
   "outputs": [],
   "source": [
    "def show_generated_images(epoch, generator, test_images, output):\n",
    "    generated_images = generator(test_images, training=False)\n",
    "    \n",
    "    fig = plt.figure(figsize=(10, 10))\n",
    "    for i in range(generated_images.shape[0]):\n",
    "        plt.subplot(4, 4, i+1)\n",
    "        img = (generated_images[i, :, :, :] + 1.0) * 127.5\n",
    "        plt.tight_layout()\n",
    "        plt.imshow(np.array(img).astype('uint8'))\n",
    "        plt.axis(\"off\")\n",
    "        \n",
    "    if not os.path.exists(output):\n",
    "        os.makedirs(output)\n",
    "\n",
    "    fig.savefig(f\"{output}/dcgan_{epoch}.png\")\n",
    "    plt.show()"
   ]
  },
  {
   "cell_type": "code",
   "execution_count": null,
   "metadata": {},
   "outputs": [],
   "source": [
    "def train_step(images, generator, discriminator, cross_entropy, generator_optimizer, discriminator_optimizer):\n",
    "    noise = tf.random.normal([BATCH_SIZE, NOISE_DIM])\n",
    "   \n",
    "    with tf.GradientTape() as disc_tape:\n",
    "        fake_images = generator(noise, training=True)\n",
    "        real_preds = discriminator(images, training=True)\n",
    "        fake_preds = discriminator(fake_images, training=True)\n",
    "        disc_loss = discriminator_loss(real_preds, fake_preds)\n",
    "        \n",
    "    discriminator_gradients = disc_tape.gradient(disc_loss, discriminator.trainable_variables)\n",
    "    discriminator_optimizer.apply_gradients(zip(discriminator_gradients, discriminator.trainable_variables))  \n",
    "    \n",
    "    with tf.GradientTape() as gen_tape:\n",
    "        fake_images = generator(noise, training=True)\n",
    "        fake_preds = discriminator(fake_images, training=True)\n",
    "        gen_loss = generator_loss(fake_preds)\n",
    "        \n",
    "    generator_gradients = gen_tape.gradient(gen_loss, generator.trainable_variables)\n",
    "    generator_optimizer.apply_gradients(zip(generator_gradients, generator.trainable_variables))\n",
    "    return gen_loss, disc_loss"
   ]
  },
  {
   "cell_type": "code",
   "execution_count": null,
   "metadata": {},
   "outputs": [],
   "source": [
    "test_images = tf.random.normal([NUM_TESTS, NOISE_DIM])\n",
    "g_loss = []\n",
    "d_loss = []\n",
    "\n",
    "for epoch in range(EPOCHS):\n",
    "    for image_batch in dataset:\n",
    "        gen_loss, disc_loss = train_step(image_batch, generator_model, discriminator_model, cross_entropy, generator_optimizer, discriminator_optimizer)\n",
    "        \n",
    "    g_loss.append(gen_loss)\n",
    "    d_loss.append(disc_loss)\n",
    "    print(f\"[+] Epoch {epoch + 1}, Generator Loss: {gen_loss}, Discriminator Loss: {disc_loss}\")\n",
    "    show_generated_images(epoch, generator_model, test_images, \"output\")\n",
    "    display.clear_output(wait=True)"
   ]
  },
  {
   "cell_type": "markdown",
   "metadata": {},
   "source": [
    "# GIF"
   ]
  },
  {
   "cell_type": "code",
   "execution_count": null,
   "metadata": {},
   "outputs": [],
   "source": [
    "!rm \"output/dcgan_simpsons.gif\""
   ]
  },
  {
   "cell_type": "code",
   "execution_count": null,
   "metadata": {},
   "outputs": [],
   "source": [
    "import imageio\n",
    "import glob\n",
    "\n",
    "files = glob.glob(\"./output/*.png\")\n",
    "gif_file = \"./output/dcgan_simpsons.gif\"\n",
    "\n",
    "with imageio.get_writer(gif_file, mode=\"I\") as writer:\n",
    "    for i, file in enumerate(files):\n",
    "        frame = 2 * (i)\n",
    "        if round(frame) > round(last):\n",
    "            last = frame\n",
    "        else:\n",
    "            continue\n",
    "            \n",
    "        img = imageio.imread(file)\n",
    "        writer.append_data(img)\n",
    "        \n",
    "    img = imageio.imread(file)\n",
    "    writer.append_data(img)"
   ]
  },
  {
   "cell_type": "code",
   "execution_count": null,
   "metadata": {},
   "outputs": [],
   "source": [
    "display.Image(filename=gif_file)"
   ]
  },
  {
   "cell_type": "markdown",
   "metadata": {},
   "source": [
    "![](output/dcgan_simpsons.gif)"
   ]
  },
  {
   "cell_type": "code",
   "execution_count": null,
   "metadata": {},
   "outputs": [],
   "source": []
  },
  {
   "cell_type": "code",
   "execution_count": null,
   "metadata": {},
   "outputs": [],
   "source": []
  },
  {
   "cell_type": "code",
   "execution_count": null,
   "metadata": {},
   "outputs": [],
   "source": []
  },
  {
   "cell_type": "code",
   "execution_count": null,
   "metadata": {},
   "outputs": [],
   "source": []
  },
  {
   "cell_type": "code",
   "execution_count": null,
   "metadata": {},
   "outputs": [],
   "source": []
  }
 ],
 "metadata": {
  "kernelspec": {
   "display_name": "Python 3 (ipykernel)",
   "language": "python",
   "name": "python3"
  },
  "language_info": {
   "codemirror_mode": {
    "name": "ipython",
    "version": 3
   },
   "file_extension": ".py",
   "mimetype": "text/x-python",
   "name": "python",
   "nbconvert_exporter": "python",
   "pygments_lexer": "ipython3",
   "version": "3.10.12"
  }
 },
 "nbformat": 4,
 "nbformat_minor": 4
}
